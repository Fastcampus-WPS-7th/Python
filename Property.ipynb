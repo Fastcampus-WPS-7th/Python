{
 "cells": [
  {
   "cell_type": "code",
   "execution_count": 51,
   "metadata": {},
   "outputs": [],
   "source": [
    "class Song:\n",
    "    def __init__(self, title, album, release_date=None):\n",
    "        self.title = title\n",
    "        self.album = album\n",
    "        self._release_date = release_date\n",
    "        \n",
    "    @property\n",
    "    def info(self):\n",
    "        return f'{self.album} | {self.title}'\n",
    "    \n",
    "    @info.setter\n",
    "    def info(self, args):\n",
    "        if len(args) != 2:\n",
    "            raise ValueError('값은 2개의 요소를 가진 시퀀스형 데이터여야합니다')\n",
    "        title, album = args\n",
    "        self.title = title\n",
    "        self.album = album\n",
    "    \n",
    "    @property\n",
    "    def release_date(self):\n",
    "        return f'{self._release_date.strftime(\"%Y.%m.%d\")}'\n",
    "    \n",
    "    @release_date.setter\n",
    "    def release_date(self, new_date):\n",
    "        if not isinstance(new_date, datetime.datetime):\n",
    "            raise ValueError('datetime객체가 와야합니다')\n",
    "        elif new_date > datetime.datetime.now():\n",
    "            raise ValueError('지금보다는 과거여야 합니다')\n",
    "        self._release_date = new_date\n",
    "        \n",
    "    def show_info(self):\n",
    "        return f'{self.album} | {self.title}'"
   ]
  },
  {
   "cell_type": "code",
   "execution_count": 36,
   "metadata": {},
   "outputs": [],
   "source": [
    "import datetime"
   ]
  },
  {
   "cell_type": "code",
   "execution_count": 29,
   "metadata": {},
   "outputs": [],
   "source": [
    "s1 = Song('좋니', 'LISTEN 010 좋니')"
   ]
  },
  {
   "cell_type": "code",
   "execution_count": 46,
   "metadata": {},
   "outputs": [],
   "source": [
    "s2 = Song('Heart Shaker', 'Merry & Happy', release_date=datetime.datetime.now())"
   ]
  },
  {
   "cell_type": "code",
   "execution_count": 47,
   "metadata": {},
   "outputs": [
    {
     "data": {
      "text/plain": [
       "'2018.01.26'"
      ]
     },
     "execution_count": 47,
     "metadata": {},
     "output_type": "execute_result"
    }
   ],
   "source": [
    "s2.release_date"
   ]
  },
  {
   "cell_type": "code",
   "execution_count": 49,
   "metadata": {},
   "outputs": [],
   "source": [
    "s2.release_date = datetime.datetime(1977, 6, 20)"
   ]
  },
  {
   "cell_type": "code",
   "execution_count": 50,
   "metadata": {},
   "outputs": [
    {
     "data": {
      "text/plain": [
       "'1977.06.20'"
      ]
     },
     "execution_count": 50,
     "metadata": {},
     "output_type": "execute_result"
    }
   ],
   "source": [
    "s2.release_date"
   ]
  },
  {
   "cell_type": "code",
   "execution_count": 69,
   "metadata": {},
   "outputs": [],
   "source": [
    "class Person:\n",
    "    def __init__(self, first_name, last_name):\n",
    "        self.__first_name = first_name\n",
    "        self.__last_name = last_name\n",
    "        \n",
    "    @property\n",
    "    def name(self):\n",
    "        return f'{self.__last_name}{self.__first_name}'\n",
    "    \n",
    "    @property\n",
    "    def first_name(self):\n",
    "        return self.__first_name\n",
    "    \n",
    "    @first_name.setter\n",
    "    def first_name(self, value):\n",
    "        self.__first_name = value"
   ]
  },
  {
   "cell_type": "code",
   "execution_count": 70,
   "metadata": {},
   "outputs": [],
   "source": [
    "p1 = Person('한영', '이')"
   ]
  },
  {
   "cell_type": "code",
   "execution_count": 71,
   "metadata": {},
   "outputs": [
    {
     "data": {
      "text/plain": [
       "'이한영'"
      ]
     },
     "execution_count": 71,
     "metadata": {},
     "output_type": "execute_result"
    }
   ],
   "source": [
    "p1.name"
   ]
  },
  {
   "cell_type": "code",
   "execution_count": 72,
   "metadata": {},
   "outputs": [],
   "source": [
    "class Student(Person):\n",
    "    def __init__(self, first_name, last_name, course):\n",
    "        super().__init__(first_name, last_name)\n",
    "        self.course = course\n",
    "        \n",
    "    @property\n",
    "    def info(self):\n",
    "        return f'{self.first_name} | 코스: {self.course}'"
   ]
  },
  {
   "cell_type": "code",
   "execution_count": 73,
   "metadata": {},
   "outputs": [],
   "source": [
    "s1 = Student('한영', '이', 'WPS')"
   ]
  },
  {
   "cell_type": "code",
   "execution_count": 74,
   "metadata": {},
   "outputs": [
    {
     "data": {
      "text/plain": [
       "'한영 | 코스: WPS'"
      ]
     },
     "execution_count": 74,
     "metadata": {},
     "output_type": "execute_result"
    }
   ],
   "source": [
    "s1.info"
   ]
  }
 ],
 "metadata": {
  "kernelspec": {
   "display_name": "Python 3",
   "language": "python",
   "name": "python3"
  },
  "language_info": {
   "codemirror_mode": {
    "name": "ipython",
    "version": 3
   },
   "file_extension": ".py",
   "mimetype": "text/x-python",
   "name": "python",
   "nbconvert_exporter": "python",
   "pygments_lexer": "ipython3",
   "version": "3.6.4"
  }
 },
 "nbformat": 4,
 "nbformat_minor": 2
}
