{
 "cells": [
  {
   "cell_type": "code",
   "execution_count": 28,
   "metadata": {},
   "outputs": [],
   "source": [
    "class Shop:\n",
    "    description = 'Python Shop class'\n",
    "    \n",
    "    def __init__(self, name):\n",
    "        self.name = name\n",
    "        \n",
    "    def show_info(self):\n",
    "        print(f'상점정보 ({self.name})')"
   ]
  },
  {
   "cell_type": "code",
   "execution_count": 29,
   "metadata": {},
   "outputs": [],
   "source": [
    "lotteria = Shop('Lotteria')\n",
    "mcdonald = Shop('McDonald')"
   ]
  },
  {
   "cell_type": "code",
   "execution_count": 64,
   "metadata": {},
   "outputs": [],
   "source": [
    "class Shop:\n",
    "    description = 'Python Shop class'\n",
    "    \n",
    "    def __init__(self, name, shop_type, address):\n",
    "        self.name = name\n",
    "        self.__shop_type = shop_type\n",
    "        self.address = address\n",
    "        \n",
    "    def show_info(self):\n",
    "        print(f'상점 ({self.name})')\n",
    "        print(f'  유형: {self.__shop_type}')\n",
    "        print(f'  주소: {self.address}')\n",
    "        \n",
    "    def change_type(self, type):\n",
    "        if type in ['패스트푸드', 'PC방']:\n",
    "            self.__shop_type = type"
   ]
  },
  {
   "cell_type": "code",
   "execution_count": 65,
   "metadata": {},
   "outputs": [],
   "source": [
    "lotteria = Shop(\n",
    "    name='롯데리아',\n",
    "    shop_type='패스트푸드',\n",
    "    address='서울시 강남구',\n",
    ")"
   ]
  },
  {
   "cell_type": "code",
   "execution_count": 66,
   "metadata": {},
   "outputs": [
    {
     "name": "stdout",
     "output_type": "stream",
     "text": [
      "상점 (롯데리아)\n",
      "  유형: 패스트푸드\n",
      "  주소: 서울시 강남구\n",
      "상점 (롯데리아)\n",
      "  유형: PC방\n",
      "  주소: 서울시 강남구\n"
     ]
    }
   ],
   "source": [
    "lotteria.show_info()\n",
    "lotteria.change_type('PC방')\n",
    "lotteria.show_info()"
   ]
  },
  {
   "cell_type": "code",
   "execution_count": 68,
   "metadata": {},
   "outputs": [
    {
     "name": "stdout",
     "output_type": "stream",
     "text": [
      "상점 (롯데리아)\n",
      "  유형: PC방\n",
      "  주소: 서울시 강남구\n",
      "상점 (롯데리아)\n",
      "  유형: PC방\n",
      "  주소: 서울시 강남구\n"
     ]
    }
   ],
   "source": [
    "lotteria.shop_type = '학원'\n",
    "lotteria.show_info()\n",
    "lotteria.change_type('수영장')\n",
    "lotteria.show_info()"
   ]
  },
  {
   "cell_type": "code",
   "execution_count": 69,
   "metadata": {},
   "outputs": [
    {
     "data": {
      "text/plain": [
       "['_Shop__shop_type',\n",
       " '__class__',\n",
       " '__delattr__',\n",
       " '__dict__',\n",
       " '__dir__',\n",
       " '__doc__',\n",
       " '__eq__',\n",
       " '__format__',\n",
       " '__ge__',\n",
       " '__getattribute__',\n",
       " '__gt__',\n",
       " '__hash__',\n",
       " '__init__',\n",
       " '__init_subclass__',\n",
       " '__le__',\n",
       " '__lt__',\n",
       " '__module__',\n",
       " '__ne__',\n",
       " '__new__',\n",
       " '__reduce__',\n",
       " '__reduce_ex__',\n",
       " '__repr__',\n",
       " '__setattr__',\n",
       " '__sizeof__',\n",
       " '__str__',\n",
       " '__subclasshook__',\n",
       " '__weakref__',\n",
       " 'address',\n",
       " 'change_type',\n",
       " 'description',\n",
       " 'name',\n",
       " 'shop_type',\n",
       " 'show_info']"
      ]
     },
     "execution_count": 69,
     "metadata": {},
     "output_type": "execute_result"
    }
   ],
   "source": [
    "dir(lotteria)"
   ]
  },
  {
   "cell_type": "code",
   "execution_count": 70,
   "metadata": {},
   "outputs": [
    {
     "data": {
      "text/plain": [
       "'학원'"
      ]
     },
     "execution_count": 70,
     "metadata": {},
     "output_type": "execute_result"
    }
   ],
   "source": [
    "lotteria.shop_type"
   ]
  },
  {
   "cell_type": "code",
   "execution_count": 71,
   "metadata": {},
   "outputs": [
    {
     "name": "stdout",
     "output_type": "stream",
     "text": [
      "상점 (롯데리아)\n",
      "  유형: PC방\n",
      "  주소: 서울시 강남구\n"
     ]
    }
   ],
   "source": [
    "lotteria.show_info()"
   ]
  },
  {
   "cell_type": "code",
   "execution_count": 72,
   "metadata": {},
   "outputs": [
    {
     "data": {
      "text/plain": [
       "'PC방'"
      ]
     },
     "execution_count": 72,
     "metadata": {},
     "output_type": "execute_result"
    }
   ],
   "source": [
    "lotteria._Shop__shop_type"
   ]
  },
  {
   "cell_type": "code",
   "execution_count": 73,
   "metadata": {},
   "outputs": [],
   "source": [
    "lotteria._Shop__shop_type = '어딘가'"
   ]
  },
  {
   "cell_type": "code",
   "execution_count": 74,
   "metadata": {},
   "outputs": [
    {
     "name": "stdout",
     "output_type": "stream",
     "text": [
      "상점 (롯데리아)\n",
      "  유형: 어딘가\n",
      "  주소: 서울시 강남구\n"
     ]
    }
   ],
   "source": [
    "lotteria.show_info()"
   ]
  },
  {
   "cell_type": "code",
   "execution_count": 75,
   "metadata": {},
   "outputs": [],
   "source": [
    "class Shop:\n",
    "    description = 'Python Shop class'\n",
    "    \n",
    "    def __init__(self, name, shop_type, address):\n",
    "        self.__name = name\n",
    "        self.__shop_type = shop_type\n",
    "        self.__address = address\n",
    "        \n",
    "    def show_info(self):\n",
    "        print(f'상점 ({self.__name})')\n",
    "        print(f'  유형: {self.__shop_type}')\n",
    "        print(f'  주소: {self.__address}')\n",
    "        \n",
    "    # 일반적인 getter, setter를 사용하는 기법\n",
    "    def get_name(self):\n",
    "        return self.__name\n",
    "    \n",
    "    def set_name(self, name):\n",
    "        self.__name = name\n",
    "        \n",
    "    def get_shop_type(self):\n",
    "        return self.__shop_type\n",
    "    \n",
    "    def set_shop_type(self, value):\n",
    "        self.__shop_type = value"
   ]
  },
  {
   "cell_type": "code",
   "execution_count": 104,
   "metadata": {},
   "outputs": [],
   "source": [
    "class Shop:\n",
    "    description = 'Python Shop class'\n",
    "    \n",
    "    def __init__(self, name, shop_type, address):\n",
    "        self.__name = name\n",
    "        self.__shop_type = shop_type\n",
    "        self.__address = address\n",
    "        \n",
    "    def show_info(self):\n",
    "        print(f'상점 ({self.__name})')\n",
    "        print(f'  유형: {self.__shop_type}')\n",
    "        print(f'  주소: {self.__address}')\n",
    "    \n",
    "    @property\n",
    "    def name(self):\n",
    "        return self.__name\n",
    "    \n",
    "    @name.setter\n",
    "    def name(self, new_name):\n",
    "        if '패스트' not in new_name:\n",
    "            self.__name = new_name\n",
    "        else:\n",
    "            print('\"패스트\"는 상점이름에 포함될 수 없습니다')"
   ]
  },
  {
   "cell_type": "code",
   "execution_count": 94,
   "metadata": {},
   "outputs": [],
   "source": [
    "lotteria = Shop(\n",
    "    name='롯데리아',\n",
    "    shop_type='패스트푸드',\n",
    "    address='서울시 강남구',\n",
    ")"
   ]
  },
  {
   "cell_type": "code",
   "execution_count": 95,
   "metadata": {},
   "outputs": [
    {
     "name": "stdout",
     "output_type": "stream",
     "text": [
      "\"패스트\"는 상점이름에 포함될 수 없습니다\n",
      "상점 (롯데리아)\n",
      "  유형: 패스트푸드\n",
      "  주소: 서울시 강남구\n"
     ]
    }
   ],
   "source": [
    "lotteria.name = '패스트캠퍼스'\n",
    "lotteria.show_info()"
   ]
  },
  {
   "cell_type": "code",
   "execution_count": 80,
   "metadata": {},
   "outputs": [
    {
     "data": {
      "text/plain": [
       "'롯데리아'"
      ]
     },
     "execution_count": 80,
     "metadata": {},
     "output_type": "execute_result"
    }
   ],
   "source": [
    "lotteria._Shop__name"
   ]
  },
  {
   "cell_type": "code",
   "execution_count": 123,
   "metadata": {},
   "outputs": [],
   "source": [
    "class Shop:\n",
    "    description = 'Python Shop class'\n",
    "    \n",
    "    def __init__(self, name, address, shop_type='상점'):\n",
    "        self._name = name\n",
    "        self._address = address\n",
    "        self._shop_type = shop_type\n",
    "        \n",
    "    def get_info_string(self):\n",
    "        ret = f'{self._shop_type} ({self._name})'\n",
    "        ret += f'\\n  주소: {self._address}'\n",
    "        return ret\n",
    "        \n",
    "    def show_info(self):\n",
    "        print(self.get_info_string())\n",
    "    \n",
    "    @property\n",
    "    def name(self):\n",
    "        return self._name\n",
    "    \n",
    "    @name.setter\n",
    "    def name(self, new_name):\n",
    "        if '패스트' not in new_name:\n",
    "            self._name = new_name\n",
    "        else:\n",
    "            print('\"패스트\"는 상점이름에 포함될 수 없습니다')\n",
    "\n",
    "\n",
    "class Restaurant(Shop):\n",
    "    def __init__(self, name, address):\n",
    "        super().__init__(name, address, shop_type='식당')"
   ]
  },
  {
   "cell_type": "code",
   "execution_count": 129,
   "metadata": {},
   "outputs": [
    {
     "name": "stdout",
     "output_type": "stream",
     "text": [
      "학원 (패스트캠퍼스)\n",
      "  주소: 신사동\n"
     ]
    }
   ],
   "source": [
    "s1 = Shop(\n",
    "    name='패스트캠퍼스',\n",
    "    address='신사동',\n",
    "    shop_type='학원',\n",
    ")\n",
    "s1.show_info()"
   ]
  },
  {
   "cell_type": "code",
   "execution_count": 130,
   "metadata": {},
   "outputs": [
    {
     "name": "stdout",
     "output_type": "stream",
     "text": [
      "식당 (빕스)\n",
      "  주소: 어딘가\n"
     ]
    }
   ],
   "source": [
    "r1 = Restaurant(\n",
    "    name='빕스',\n",
    "    address='어딘가'\n",
    ")\n",
    "r1.show_info()"
   ]
  },
  {
   "cell_type": "code",
   "execution_count": 185,
   "metadata": {},
   "outputs": [],
   "source": [
    "import random\n",
    "\n",
    "\n",
    "class Pokemon:\n",
    "    def __init__(self, name, type):\n",
    "        self.name = name\n",
    "        self.type = type\n",
    "        \n",
    "    def __str__(self):\n",
    "        return f'{self.type}타입 포켓몬 {self.name}'\n",
    "        \n",
    "    @classmethod\n",
    "    def dummy_pokemon(cls):\n",
    "        # name에 알 수 없음\n",
    "        # type에 알 수 없음\n",
    "        # 이라는 값을 가진 Pokemon인스턴스를 리턴\n",
    "        return cls('알 수 없음', '알 수 없음')\n",
    "        \n",
    "    @staticmethod\n",
    "    def electric():\n",
    "        pokemons = ('피카츄', '라이츄', '붐볼')\n",
    "        selected_pokemon = random.choice(pokemons)\n",
    "        return Pokemon(selected_pokemon, '전기')\n",
    "    \n",
    "    @staticmethod\n",
    "    def water():\n",
    "        pokemons = ('꼬부기', '아쿠스타', '라프라스')\n",
    "        selected_pokemon = random.choice(pokemons)\n",
    "        return Pokemon(selected_pokemon, '물')\n",
    "    \n",
    "\n",
    "class WaterPokemon(Pokemon):\n",
    "    def water_gun(self):\n",
    "        print('물대포 발사')"
   ]
  },
  {
   "cell_type": "code",
   "execution_count": 186,
   "metadata": {},
   "outputs": [
    {
     "name": "stdout",
     "output_type": "stream",
     "text": [
      "라이츄\n"
     ]
    }
   ],
   "source": [
    "random_electric_pokemon = Pokemon.electric()\n",
    "print(random_electric_pokemon.name)"
   ]
  },
  {
   "cell_type": "code",
   "execution_count": 156,
   "metadata": {},
   "outputs": [
    {
     "name": "stdout",
     "output_type": "stream",
     "text": [
      "알 수 없음\n",
      "<class '__main__.Pokemon'>\n",
      "<class '__main__.Pokemon'>\n",
      "물대포 발사\n",
      "알 수 없음\n",
      "<class '__main__.WaterPokemon'>\n",
      "<class '__main__.WaterPokemon'>\n"
     ]
    }
   ],
   "source": [
    "dummy = Pokemon.dummy_pokemon()\n",
    "print(dummy.name)\n",
    "print(Pokemon)\n",
    "print(type(dummy))\n",
    "\n",
    "dummy2 = WaterPokemon.dummy_pokemon()\n",
    "dummy2.water_gun()\n",
    "print(dummy2.name)\n",
    "print(WaterPokemon)\n",
    "print(type(dummy2))"
   ]
  },
  {
   "cell_type": "code",
   "execution_count": 163,
   "metadata": {},
   "outputs": [],
   "source": [
    "def convert_to_string(arg):\n",
    "    return str(arg)"
   ]
  },
  {
   "cell_type": "code",
   "execution_count": 165,
   "metadata": {},
   "outputs": [
    {
     "data": {
      "text/plain": [
       "'[1, 2, 3, 4]'"
      ]
     },
     "execution_count": 165,
     "metadata": {},
     "output_type": "execute_result"
    }
   ],
   "source": [
    "convert_to_string([1,2,3,4])"
   ]
  },
  {
   "cell_type": "code",
   "execution_count": 167,
   "metadata": {},
   "outputs": [
    {
     "data": {
      "text/plain": [
       "'<__main__.Pokemon object at 0x104c5e550>'"
      ]
     },
     "execution_count": 167,
     "metadata": {},
     "output_type": "execute_result"
    }
   ],
   "source": [
    "convert_to_string(pikachu)"
   ]
  },
  {
   "cell_type": "code",
   "execution_count": 181,
   "metadata": {},
   "outputs": [],
   "source": [
    "def do_attack(pokemon):\n",
    "    pokemon.attack()"
   ]
  },
  {
   "cell_type": "code",
   "execution_count": 187,
   "metadata": {},
   "outputs": [
    {
     "name": "stdout",
     "output_type": "stream",
     "text": [
      "100만볼트\n",
      "알수없는 공격\n",
      "햄버거 공격\n"
     ]
    }
   ],
   "source": [
    "def pikachu_attack():\n",
    "    print('100만볼트')\n",
    "pikachu = Pokemon('피카츄', '전기')\n",
    "pikachu.attack = pikachu_attack\n",
    "dummy.attack = lambda: print('알수없는 공격')\n",
    "lotteria.attack = lambda: print('햄버거 공격')\n",
    "\n",
    "do_attack(pikachu)\n",
    "do_attack(dummy)\n",
    "do_attack(lotteria)"
   ]
  },
  {
   "cell_type": "code",
   "execution_count": 189,
   "metadata": {},
   "outputs": [
    {
     "data": {
      "text/plain": [
       "'전기타입 포켓몬 피카츄'"
      ]
     },
     "execution_count": 189,
     "metadata": {},
     "output_type": "execute_result"
    }
   ],
   "source": [
    "pikachu.__str__()"
   ]
  },
  {
   "cell_type": "code",
   "execution_count": 192,
   "metadata": {},
   "outputs": [
    {
     "data": {
      "text/plain": [
       "'1234'"
      ]
     },
     "execution_count": 192,
     "metadata": {},
     "output_type": "execute_result"
    }
   ],
   "source": [
    "a = 1234\n",
    "a.__str__()"
   ]
  },
  {
   "cell_type": "code",
   "execution_count": 202,
   "metadata": {},
   "outputs": [],
   "source": [
    "class User:\n",
    "    def __init__(self, name):\n",
    "        self.name = name\n",
    "        self.attack = 0\n",
    "        self.defense = 0\n",
    "    \n",
    "    def equip(self, item):\n",
    "        print(f'{self.name}(이/가) {item}(을/를) 장착합니다')\n",
    "        item.use(self)\n",
    "        \n",
    "    def __str__(self):\n",
    "        return f'{self.name} (atk: {self.attack}, def: {self.defense})'"
   ]
  },
  {
   "cell_type": "code",
   "execution_count": 203,
   "metadata": {},
   "outputs": [
    {
     "name": "stdout",
     "output_type": "stream",
     "text": [
      "철수 (atk: 0, def: 0)\n"
     ]
    }
   ],
   "source": [
    "철수 = User('철수')\n",
    "print(철수)"
   ]
  },
  {
   "cell_type": "code",
   "execution_count": 201,
   "metadata": {},
   "outputs": [],
   "source": [
    "class Sword:\n",
    "    def use(self, user):\n",
    "        user.attack += 10\n",
    "\n",
    "class Shield:\n",
    "    def use(self, user):\n",
    "        user.defense += 10"
   ]
  },
  {
   "cell_type": "code",
   "execution_count": 205,
   "metadata": {},
   "outputs": [],
   "source": [
    "엑스칼리버 = Sword()\n",
    "의천검 = Sword()\n",
    "AT필드 = Shield()"
   ]
  },
  {
   "cell_type": "code",
   "execution_count": 1,
   "metadata": {},
   "outputs": [
    {
     "ename": "NameError",
     "evalue": "name '철수' is not defined",
     "output_type": "error",
     "traceback": [
      "\u001b[0;31m---------------------------------------------------------------------------\u001b[0m",
      "\u001b[0;31mNameError\u001b[0m                                 Traceback (most recent call last)",
      "\u001b[0;32m<ipython-input-1-b28ea853fd9a>\u001b[0m in \u001b[0;36m<module>\u001b[0;34m()\u001b[0m\n\u001b[0;32m----> 1\u001b[0;31m \u001b[0m철수\u001b[0m\u001b[0;34m.\u001b[0m\u001b[0mequip\u001b[0m\u001b[0;34m(\u001b[0m\u001b[0m엑스칼리버\u001b[0m\u001b[0;34m)\u001b[0m\u001b[0;34m\u001b[0m\u001b[0m\n\u001b[0m\u001b[1;32m      2\u001b[0m \u001b[0mprint\u001b[0m\u001b[0;34m(\u001b[0m\u001b[0m철수\u001b[0m\u001b[0;34m)\u001b[0m\u001b[0;34m\u001b[0m\u001b[0m\n",
      "\u001b[0;31mNameError\u001b[0m: name '철수' is not defined"
     ]
    }
   ],
   "source": [
    "철수.equip(엑스칼리버)\n",
    "print(철수)"
   ]
  },
  {
   "cell_type": "code",
   "execution_count": 10,
   "metadata": {},
   "outputs": [],
   "source": [
    "# 자식이 부모 속성 중 일부만 사용\n",
    "class Shop:\n",
    "    description = 'Python Shop class'\n",
    "    \n",
    "    def __init__(self, **kwargs):\n",
    "        self._name = kwargs.get('name')\n",
    "        self._shop_type = kwargs.get('shop_type')\n",
    "        address = kwargs.get('address')\n",
    "        if address:\n",
    "            self._address = address\n",
    "\n",
    "class Shop2(Shop):\n",
    "    def __init__(self, name, shop_type='자식상점'):\n",
    "        super().__init__(name=name, shop_type=shop_type, address=None)\n",
    "#         delattr(self, '_address')"
   ]
  },
  {
   "cell_type": "code",
   "execution_count": 11,
   "metadata": {},
   "outputs": [],
   "source": [
    "s = Shop2(name='asdf')"
   ]
  },
  {
   "cell_type": "code",
   "execution_count": 12,
   "metadata": {},
   "outputs": [
    {
     "data": {
      "text/plain": [
       "'asdf'"
      ]
     },
     "execution_count": 12,
     "metadata": {},
     "output_type": "execute_result"
    }
   ],
   "source": [
    "s._name"
   ]
  },
  {
   "cell_type": "code",
   "execution_count": 13,
   "metadata": {},
   "outputs": [
    {
     "data": {
      "text/plain": [
       "'자식상점'"
      ]
     },
     "execution_count": 13,
     "metadata": {},
     "output_type": "execute_result"
    }
   ],
   "source": [
    "s._shop_type"
   ]
  },
  {
   "cell_type": "code",
   "execution_count": 14,
   "metadata": {},
   "outputs": [
    {
     "ename": "AttributeError",
     "evalue": "'Shop2' object has no attribute 'address'",
     "output_type": "error",
     "traceback": [
      "\u001b[0;31m---------------------------------------------------------------------------\u001b[0m",
      "\u001b[0;31mAttributeError\u001b[0m                            Traceback (most recent call last)",
      "\u001b[0;32m<ipython-input-14-3fab277d3705>\u001b[0m in \u001b[0;36m<module>\u001b[0;34m()\u001b[0m\n\u001b[0;32m----> 1\u001b[0;31m \u001b[0ms\u001b[0m\u001b[0;34m.\u001b[0m\u001b[0maddress\u001b[0m\u001b[0;34m\u001b[0m\u001b[0m\n\u001b[0m",
      "\u001b[0;31mAttributeError\u001b[0m: 'Shop2' object has no attribute 'address'"
     ]
    }
   ],
   "source": [
    "s.address"
   ]
  },
  {
   "cell_type": "code",
   "execution_count": null,
   "metadata": {},
   "outputs": [],
   "source": []
  },
  {
   "cell_type": "code",
   "execution_count": null,
   "metadata": {},
   "outputs": [],
   "source": []
  }
 ],
 "metadata": {
  "kernelspec": {
   "display_name": "Python 3",
   "language": "python",
   "name": "python3"
  },
  "language_info": {
   "codemirror_mode": {
    "name": "ipython",
    "version": 3
   },
   "file_extension": ".py",
   "mimetype": "text/x-python",
   "name": "python",
   "nbconvert_exporter": "python",
   "pygments_lexer": "ipython3",
   "version": "3.6.4"
  }
 },
 "nbformat": 4,
 "nbformat_minor": 2
}
