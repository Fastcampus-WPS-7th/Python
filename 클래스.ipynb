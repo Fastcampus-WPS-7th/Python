{
 "cells": [
  {
   "cell_type": "code",
   "execution_count": 28,
   "metadata": {},
   "outputs": [],
   "source": [
    "class Shop:\n",
    "    description = 'Python Shop class'\n",
    "    \n",
    "    def __init__(self, name):\n",
    "        self.name = name\n",
    "        \n",
    "    def show_info(self):\n",
    "        print(f'상점정보 ({self.name})')"
   ]
  },
  {
   "cell_type": "code",
   "execution_count": 29,
   "metadata": {},
   "outputs": [],
   "source": [
    "lotteria = Shop('Lotteria')\n",
    "mcdonald = Shop('McDonald')"
   ]
  },
  {
   "cell_type": "code",
   "execution_count": 64,
   "metadata": {},
   "outputs": [],
   "source": [
    "class Shop:\n",
    "    description = 'Python Shop class'\n",
    "    \n",
    "    def __init__(self, name, shop_type, address):\n",
    "        self.name = name\n",
    "        self.__shop_type = shop_type\n",
    "        self.address = address\n",
    "        \n",
    "    def show_info(self):\n",
    "        print(f'상점 ({self.name})')\n",
    "        print(f'  유형: {self.__shop_type}')\n",
    "        print(f'  주소: {self.address}')\n",
    "        \n",
    "    def change_type(self, type):\n",
    "        if type in ['패스트푸드', 'PC방']:\n",
    "            self.__shop_type = type"
   ]
  },
  {
   "cell_type": "code",
   "execution_count": 65,
   "metadata": {},
   "outputs": [],
   "source": [
    "lotteria = Shop(\n",
    "    name='롯데리아',\n",
    "    shop_type='패스트푸드',\n",
    "    address='서울시 강남구',\n",
    ")"
   ]
  },
  {
   "cell_type": "code",
   "execution_count": 66,
   "metadata": {},
   "outputs": [
    {
     "name": "stdout",
     "output_type": "stream",
     "text": [
      "상점 (롯데리아)\n",
      "  유형: 패스트푸드\n",
      "  주소: 서울시 강남구\n",
      "상점 (롯데리아)\n",
      "  유형: PC방\n",
      "  주소: 서울시 강남구\n"
     ]
    }
   ],
   "source": [
    "lotteria.show_info()\n",
    "lotteria.change_type('PC방')\n",
    "lotteria.show_info()"
   ]
  },
  {
   "cell_type": "code",
   "execution_count": 68,
   "metadata": {},
   "outputs": [
    {
     "name": "stdout",
     "output_type": "stream",
     "text": [
      "상점 (롯데리아)\n",
      "  유형: PC방\n",
      "  주소: 서울시 강남구\n",
      "상점 (롯데리아)\n",
      "  유형: PC방\n",
      "  주소: 서울시 강남구\n"
     ]
    }
   ],
   "source": [
    "lotteria.shop_type = '학원'\n",
    "lotteria.show_info()\n",
    "lotteria.change_type('수영장')\n",
    "lotteria.show_info()"
   ]
  },
  {
   "cell_type": "code",
   "execution_count": 69,
   "metadata": {},
   "outputs": [
    {
     "data": {
      "text/plain": [
       "['_Shop__shop_type',\n",
       " '__class__',\n",
       " '__delattr__',\n",
       " '__dict__',\n",
       " '__dir__',\n",
       " '__doc__',\n",
       " '__eq__',\n",
       " '__format__',\n",
       " '__ge__',\n",
       " '__getattribute__',\n",
       " '__gt__',\n",
       " '__hash__',\n",
       " '__init__',\n",
       " '__init_subclass__',\n",
       " '__le__',\n",
       " '__lt__',\n",
       " '__module__',\n",
       " '__ne__',\n",
       " '__new__',\n",
       " '__reduce__',\n",
       " '__reduce_ex__',\n",
       " '__repr__',\n",
       " '__setattr__',\n",
       " '__sizeof__',\n",
       " '__str__',\n",
       " '__subclasshook__',\n",
       " '__weakref__',\n",
       " 'address',\n",
       " 'change_type',\n",
       " 'description',\n",
       " 'name',\n",
       " 'shop_type',\n",
       " 'show_info']"
      ]
     },
     "execution_count": 69,
     "metadata": {},
     "output_type": "execute_result"
    }
   ],
   "source": [
    "dir(lotteria)"
   ]
  },
  {
   "cell_type": "code",
   "execution_count": 70,
   "metadata": {},
   "outputs": [
    {
     "data": {
      "text/plain": [
       "'학원'"
      ]
     },
     "execution_count": 70,
     "metadata": {},
     "output_type": "execute_result"
    }
   ],
   "source": [
    "lotteria.shop_type"
   ]
  },
  {
   "cell_type": "code",
   "execution_count": 71,
   "metadata": {},
   "outputs": [
    {
     "name": "stdout",
     "output_type": "stream",
     "text": [
      "상점 (롯데리아)\n",
      "  유형: PC방\n",
      "  주소: 서울시 강남구\n"
     ]
    }
   ],
   "source": [
    "lotteria.show_info()"
   ]
  },
  {
   "cell_type": "code",
   "execution_count": 72,
   "metadata": {},
   "outputs": [
    {
     "data": {
      "text/plain": [
       "'PC방'"
      ]
     },
     "execution_count": 72,
     "metadata": {},
     "output_type": "execute_result"
    }
   ],
   "source": [
    "lotteria._Shop__shop_type"
   ]
  },
  {
   "cell_type": "code",
   "execution_count": 73,
   "metadata": {},
   "outputs": [],
   "source": [
    "lotteria._Shop__shop_type = '어딘가'"
   ]
  },
  {
   "cell_type": "code",
   "execution_count": 74,
   "metadata": {},
   "outputs": [
    {
     "name": "stdout",
     "output_type": "stream",
     "text": [
      "상점 (롯데리아)\n",
      "  유형: 어딘가\n",
      "  주소: 서울시 강남구\n"
     ]
    }
   ],
   "source": [
    "lotteria.show_info()"
   ]
  },
  {
   "cell_type": "code",
   "execution_count": 75,
   "metadata": {},
   "outputs": [],
   "source": [
    "class Shop:\n",
    "    description = 'Python Shop class'\n",
    "    \n",
    "    def __init__(self, name, shop_type, address):\n",
    "        self.__name = name\n",
    "        self.__shop_type = shop_type\n",
    "        self.__address = address\n",
    "        \n",
    "    def show_info(self):\n",
    "        print(f'상점 ({self.__name})')\n",
    "        print(f'  유형: {self.__shop_type}')\n",
    "        print(f'  주소: {self.__address}')\n",
    "        \n",
    "    # 일반적인 getter, setter를 사용하는 기법\n",
    "    def get_name(self):\n",
    "        return self.__name\n",
    "    \n",
    "    def set_name(self, name):\n",
    "        self.__name = name\n",
    "        \n",
    "    def get_shop_type(self):\n",
    "        return self.__shop_type\n",
    "    \n",
    "    def set_shop_type(self, value):\n",
    "        self.__shop_type = value"
   ]
  },
  {
   "cell_type": "code",
   "execution_count": 104,
   "metadata": {},
   "outputs": [],
   "source": [
    "class Shop:\n",
    "    description = 'Python Shop class'\n",
    "    \n",
    "    def __init__(self, name, shop_type, address):\n",
    "        self.__name = name\n",
    "        self.__shop_type = shop_type\n",
    "        self.__address = address\n",
    "        \n",
    "    def show_info(self):\n",
    "        print(f'상점 ({self.__name})')\n",
    "        print(f'  유형: {self.__shop_type}')\n",
    "        print(f'  주소: {self.__address}')\n",
    "    \n",
    "    @property\n",
    "    def name(self):\n",
    "        return self.__name\n",
    "    \n",
    "    @name.setter\n",
    "    def name(self, new_name):\n",
    "        if '패스트' not in new_name:\n",
    "            self.__name = new_name\n",
    "        else:\n",
    "            print('\"패스트\"는 상점이름에 포함될 수 없습니다')"
   ]
  },
  {
   "cell_type": "code",
   "execution_count": 94,
   "metadata": {},
   "outputs": [],
   "source": [
    "lotteria = Shop(\n",
    "    name='롯데리아',\n",
    "    shop_type='패스트푸드',\n",
    "    address='서울시 강남구',\n",
    ")"
   ]
  },
  {
   "cell_type": "code",
   "execution_count": 95,
   "metadata": {},
   "outputs": [
    {
     "name": "stdout",
     "output_type": "stream",
     "text": [
      "\"패스트\"는 상점이름에 포함될 수 없습니다\n",
      "상점 (롯데리아)\n",
      "  유형: 패스트푸드\n",
      "  주소: 서울시 강남구\n"
     ]
    }
   ],
   "source": [
    "lotteria.name = '패스트캠퍼스'\n",
    "lotteria.show_info()"
   ]
  },
  {
   "cell_type": "code",
   "execution_count": 80,
   "metadata": {},
   "outputs": [
    {
     "data": {
      "text/plain": [
       "'롯데리아'"
      ]
     },
     "execution_count": 80,
     "metadata": {},
     "output_type": "execute_result"
    }
   ],
   "source": [
    "lotteria._Shop__name"
   ]
  },
  {
   "cell_type": "code",
   "execution_count": 123,
   "metadata": {},
   "outputs": [],
   "source": [
    "class Shop:\n",
    "    description = 'Python Shop class'\n",
    "    \n",
    "    def __init__(self, name, address, shop_type='상점'):\n",
    "        self._name = name\n",
    "        self._address = address\n",
    "        self._shop_type = shop_type\n",
    "        \n",
    "    def get_info_string(self):\n",
    "        ret = f'{self._shop_type} ({self._name})'\n",
    "        ret += f'\\n  주소: {self._address}'\n",
    "        return ret\n",
    "        \n",
    "    def show_info(self):\n",
    "        print(self.get_info_string())\n",
    "    \n",
    "    @property\n",
    "    def name(self):\n",
    "        return self._name\n",
    "    \n",
    "    @name.setter\n",
    "    def name(self, new_name):\n",
    "        if '패스트' not in new_name:\n",
    "            self._name = new_name\n",
    "        else:\n",
    "            print('\"패스트\"는 상점이름에 포함될 수 없습니다')\n",
    "            \n",
    "class Restaurant(Shop):\n",
    "    def __init__(self, name, address):\n",
    "        super().__init__(name, address, shop_type='식당')"
   ]
  },
  {
   "cell_type": "code",
   "execution_count": 126,
   "metadata": {},
   "outputs": [
    {
     "name": "stdout",
     "output_type": "stream",
     "text": [
      "학원 (패스트캠퍼스)\n",
      "  주소: 신사동\n"
     ]
    }
   ],
   "source": [
    "s1 = Shop(\n",
    "    name='패스트캠퍼스',\n",
    "    address='신사동',\n",
    "    shop_type='학원',\n",
    ")\n",
    "s1.show_info()"
   ]
  },
  {
   "cell_type": "code",
   "execution_count": 127,
   "metadata": {},
   "outputs": [
    {
     "name": "stdout",
     "output_type": "stream",
     "text": [
      "식당 (빕스)\n",
      "  주소: 어딘가\n"
     ]
    }
   ],
   "source": [
    "r1 = Restaurant(\n",
    "    name='빕스',\n",
    "    address='어딘가'\n",
    ")\n",
    "r1.show_info()"
   ]
  },
  {
   "cell_type": "code",
   "execution_count": null,
   "metadata": {},
   "outputs": [],
   "source": []
  },
  {
   "cell_type": "code",
   "execution_count": null,
   "metadata": {},
   "outputs": [],
   "source": []
  }
 ],
 "metadata": {
  "kernelspec": {
   "display_name": "Python 3",
   "language": "python",
   "name": "python3"
  },
  "language_info": {
   "codemirror_mode": {
    "name": "ipython",
    "version": 3
   },
   "file_extension": ".py",
   "mimetype": "text/x-python",
   "name": "python",
   "nbconvert_exporter": "python",
   "pygments_lexer": "ipython3",
   "version": "3.6.4"
  }
 },
 "nbformat": 4,
 "nbformat_minor": 2
}
